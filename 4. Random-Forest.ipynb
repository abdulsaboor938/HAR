{
 "cells": [
  {
   "cell_type": "code",
   "execution_count": 75,
   "metadata": {},
   "outputs": [],
   "source": [
    "import pandas as pd\n",
    "import warnings\n",
    "warnings.filterwarnings(\"ignore\")"
   ]
  },
  {
   "cell_type": "code",
   "execution_count": 76,
   "metadata": {},
   "outputs": [],
   "source": [
    "test = pd.read_csv('test.csv')\n",
    "train_a = pd.read_csv('train-a.csv')\n",
    "train_n = pd.read_csv('train-n.csv')\n",
    "\n",
    "X_test = test.drop('Locomotion', axis=1)\n",
    "y_test = test['Locomotion']"
   ]
  },
  {
   "cell_type": "code",
   "execution_count": 77,
   "metadata": {},
   "outputs": [],
   "source": [
    "# import random forest classifier\n",
    "from sklearn.ensemble import RandomForestClassifier\n",
    "from sklearn.metrics import classification_report"
   ]
  },
  {
   "cell_type": "code",
   "execution_count": 78,
   "metadata": {},
   "outputs": [],
   "source": [
    "train = train_n.head(50000)\n",
    "\n",
    "# train\n",
    "X_train = train.drop('Locomotion', axis=1)\n",
    "y_train = train['Locomotion']\n",
    "\n",
    "clf = RandomForestClassifier(n_estimators=100, random_state=42)\n",
    "clf.fit(X_train, y_train)\n",
    "\n",
    "y_pred = clf.predict(X_test)\n",
    "\n",
    "# print classification report\n",
    "from sklearn.metrics import classification_report\n",
    "run1 = classification_report(y_test, y_pred)"
   ]
  },
  {
   "cell_type": "code",
   "execution_count": 79,
   "metadata": {},
   "outputs": [],
   "source": [
    "train = train_a.head(50000)\n",
    "\n",
    "# train\n",
    "X_train = train.drop('Locomotion', axis=1)\n",
    "y_train = train['Locomotion']\n",
    "\n",
    "clf = RandomForestClassifier(n_estimators=100, random_state=42)\n",
    "clf.fit(X_train, y_train)\n",
    "\n",
    "y_pred = clf.predict(X_test)\n",
    "\n",
    "# print classification report\n",
    "from sklearn.metrics import classification_report\n",
    "run2 = classification_report(y_test, y_pred)"
   ]
  },
  {
   "cell_type": "code",
   "execution_count": 80,
   "metadata": {},
   "outputs": [],
   "source": [
    "print(run1)\n",
    "# save classification report to file\n",
    "with open('reports/forest-without.txt', 'w') as f:\n",
    "    f.write(run1)"
   ]
  },
  {
   "cell_type": "code",
   "execution_count": 81,
   "metadata": {},
   "outputs": [],
   "source": [
    "print(run2)\n",
    "# save classification report to file\n",
    "with open('reports/forest-with.txt', 'w') as f:\n",
    "    f.write(run2)"
   ]
  },
  {
   "cell_type": "code",
   "execution_count": 82,
   "metadata": {},
   "outputs": [],
   "source": [
    "from sklearn.ensemble import RandomForestClassifier\n",
    "from sklearn.metrics import accuracy_score, precision_score, recall_score, f1_score\n",
    "import numpy as np\n",
    "import matplotlib.pyplot as plt\n",
    "\n",
    "clf = RandomForestClassifier(n_estimators=100, random_state=42)\n",
    "\n",
    "# Initialize arrays to store evaluation metrics\n",
    "accuracies = []\n",
    "precisions = []\n",
    "recalls = []\n",
    "f1_scores = []\n",
    "\n",
    "iter = 100\n",
    "\n",
    "for i in range(iter):\n",
    "    train = train_a[0:(i+1)*100]\n",
    "\n",
    "    # train\n",
    "    X_train = train.drop('Locomotion', axis=1)\n",
    "    y_train = train['Locomotion']\n",
    "\n",
    "    clf.fit(X_train, y_train)\n",
    "    y_pred = clf.predict(X_test)\n",
    "\n",
    "    # Calculate evaluation metrics\n",
    "    accuracy = accuracy_score(y_test, y_pred)\n",
    "    precision = precision_score(y_test, y_pred, average=\"weighted\")\n",
    "    recall = recall_score(y_test, y_pred, average=\"weighted\")\n",
    "    f1 = f1_score(y_test, y_pred, average=\"weighted\")\n",
    "    \n",
    "    # Append metrics to arrays\n",
    "    accuracies.append(accuracy)\n",
    "    precisions.append(precision)\n",
    "    recalls.append(recall)\n",
    "    f1_scores.append(f1)\n",
    "\n",
    "    print(f'Iteration {i+1} of {iter} complete')\n",
    "\n",
    "# Plot evaluation metrics\n",
    "plt.figure(figsize=(10, 6))\n",
    "plt.plot(range(1, iter*100, 100), precisions, label='Precision')\n",
    "plt.plot(range(1, iter*100, 100), recalls, label='Recall')\n",
    "plt.plot(range(1, iter*100, 100), f1_scores, label='F1 Score')\n",
    "plt.xlabel('Training Examples')\n",
    "plt.ylabel('Score')\n",
    "plt.title('Evaluation Metrics Over first 10000 Samples')\n",
    "plt.legend()\n",
    "plt.grid(True)\n",
    "\n",
    "# Save plot to file\n",
    "plt.savefig('plots/4.1 forest-iter_with.png')"
   ]
  }
 ],
 "metadata": {
  "kernelspec": {
   "display_name": "tensorflow",
   "language": "python",
   "name": "python3"
  },
  "language_info": {
   "codemirror_mode": {
    "name": "ipython",
    "version": 3
   },
   "file_extension": ".py",
   "mimetype": "text/x-python",
   "name": "python",
   "nbconvert_exporter": "python",
   "pygments_lexer": "ipython3",
   "version": "3.10.11"
  }
 },
 "nbformat": 4,
 "nbformat_minor": 2
}
