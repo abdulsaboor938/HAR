{
 "cells": [
  {
   "cell_type": "code",
   "execution_count": 12,
   "metadata": {},
   "outputs": [],
   "source": [
    "# This file will create two datasets and then calculate metrics of a simple model"
   ]
  },
  {
   "cell_type": "code",
   "execution_count": 13,
   "metadata": {},
   "outputs": [],
   "source": [
    "import pandas as pd\n",
    "import numpy as np"
   ]
  },
  {
   "cell_type": "code",
   "execution_count": 24,
   "metadata": {},
   "outputs": [],
   "source": [
    "train = pd.read_csv('train-s.csv')\n",
    "test = pd.read_csv('test-s.csv')"
   ]
  },
  {
   "cell_type": "code",
   "execution_count": 15,
   "metadata": {},
   "outputs": [],
   "source": [
    "# in locomotion column, choose the max value from Locomotion and ML_Both_Arms\n",
    "test['Locomotion'] = test[['Locomotion', 'ML_Both_Arms']].max(axis=1)\n",
    "test.drop(['LL_Left_Arm_Object', 'LL_Right_Arm_Object', 'ML_Both_Arms'], axis=1, inplace=True)"
   ]
  },
  {
   "cell_type": "markdown",
   "metadata": {},
   "source": [
    "## Dataset 1 (Non-Ambient)"
   ]
  },
  {
   "cell_type": "code",
   "execution_count": 25,
   "metadata": {},
   "outputs": [],
   "source": [
    "train1 = train.copy()\n",
    "train1.drop(['LL_Left_Arm_Object', 'LL_Right_Arm_Object', 'ML_Both_Arms'], axis=1, inplace=True)\n",
    "test1 = test.copy()\n",
    "test1.drop(['LL_Left_Arm_Object', 'LL_Right_Arm_Object'], axis=1, inplace=True)"
   ]
  },
  {
   "cell_type": "code",
   "execution_count": 26,
   "metadata": {},
   "outputs": [
    {
     "name": "stdout",
     "output_type": "stream",
     "text": [
      "Accuracy: 0.9577527755010804\n",
      "              precision    recall  f1-score   support\n",
      "\n",
      "           0       0.96      0.43      0.60        99\n",
      "           1       0.95      0.99      0.97      8794\n",
      "           2       0.97      0.91      0.94      4528\n",
      "\n",
      "    accuracy                           0.96     13421\n",
      "   macro avg       0.96      0.78      0.84     13421\n",
      "weighted avg       0.96      0.96      0.96     13421\n",
      "\n"
     ]
    }
   ],
   "source": [
    "# apply random forest classifier\n",
    "from sklearn.ensemble import RandomForestClassifier\n",
    "from sklearn.metrics import accuracy_score, classification_report\n",
    "from sklearn.model_selection import train_test_split\n",
    "\n",
    "X = train1.drop('Locomotion', axis=1)\n",
    "y = train1['Locomotion']\n",
    "\n",
    "X_train, X_test, y_train, y_test = train_test_split(X, y, test_size=0.3, random_state=42)\n",
    "\n",
    "rf = RandomForestClassifier(n_estimators=100, random_state=42)\n",
    "rf.fit(X_train, y_train)\n",
    "y_pred = rf.predict(X_test)\n",
    "\n",
    "print('Accuracy:', accuracy_score(y_test, y_pred))\n",
    "print(classification_report(y_test, y_pred))"
   ]
  },
  {
   "cell_type": "markdown",
   "metadata": {},
   "source": []
  },
  {
   "cell_type": "markdown",
   "metadata": {},
   "source": [
    "## Dataset2 (Ambient)"
   ]
  },
  {
   "cell_type": "code",
   "execution_count": 19,
   "metadata": {},
   "outputs": [],
   "source": [
    "train2 = train.copy()\n",
    "train2['Locomotion'] = train2[['Locomotion', 'ML_Both_Arms']].max(axis=1)\n",
    "train2.drop(['LL_Left_Arm_Object', 'LL_Right_Arm_Object', 'ML_Both_Arms'], axis=1, inplace=True)"
   ]
  },
  {
   "cell_type": "code",
   "execution_count": 22,
   "metadata": {},
   "outputs": [
    {
     "name": "stdout",
     "output_type": "stream",
     "text": [
      "0.9937410586552218\n",
      "              precision    recall  f1-score   support\n",
      "\n",
      "           1       1.00      0.63      0.77        19\n",
      "           2       1.00      1.00      1.00        10\n",
      "      404516       0.99      0.99      0.99      2649\n",
      "      404517       0.99      1.00      1.00      2785\n",
      "      406516       1.00      0.99      0.99      2840\n",
      "      406517       1.00      1.00      1.00      2881\n",
      "\n",
      "    accuracy                           0.99     11184\n",
      "   macro avg       1.00      0.93      0.96     11184\n",
      "weighted avg       0.99      0.99      0.99     11184\n",
      "\n"
     ]
    }
   ],
   "source": [
    "# apply random forest classifier\n",
    "from sklearn.ensemble import RandomForestClassifier\n",
    "from sklearn.metrics import accuracy_score, classification_report\n",
    "from sklearn.model_selection import train_test_split\n",
    "\n",
    "X = train2.drop('Locomotion', axis=1)\n",
    "y = train2['Locomotion']\n",
    "\n",
    "rf = RandomForestClassifier(n_estimators=100, random_state=42)\n",
    "rf.fit(X, y)\n",
    "\n",
    "# Using the test dataset for predictions\n",
    "X_test = test1.drop('Locomotion', axis=1)\n",
    "y_test = test1['Locomotion']\n",
    "\n",
    "y_pred = rf.predict(X_test)\n",
    "print(accuracy_score(y_test, y_pred))\n",
    "print(classification_report(y_test, y_pred))"
   ]
  }
 ],
 "metadata": {
  "kernelspec": {
   "display_name": "tensorflow",
   "language": "python",
   "name": "python3"
  },
  "language_info": {
   "codemirror_mode": {
    "name": "ipython",
    "version": 3
   },
   "file_extension": ".py",
   "mimetype": "text/x-python",
   "name": "python",
   "nbconvert_exporter": "python",
   "pygments_lexer": "ipython3",
   "version": "3.10.11"
  }
 },
 "nbformat": 4,
 "nbformat_minor": 2
}
