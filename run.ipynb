{
 "cells": [
  {
   "cell_type": "markdown",
   "metadata": {},
   "source": [
    "This is just a simple file to run all the python files contained in the directory."
   ]
  },
  {
   "cell_type": "markdown",
   "metadata": {},
   "source": [
    "## Data Extraction\n",
    "Here we will use '1. data-extraction.py' to download and then extract data into a csv file that will tehn be used for further processing."
   ]
  },
  {
   "cell_type": "code",
   "execution_count": 3,
   "metadata": {},
   "outputs": [
    {
     "name": "stdout",
     "output_type": "stream",
     "text": [
      "File already exists\n",
      "Unzipping the file\n",
      "S1-ADL4.csv has been created successfully.\n",
      "S1-Drill.csv has been created successfully.\n",
      "S1-ADL5.csv has been created successfully.\n",
      "S1-ADL1.csv has been created successfully.\n",
      "S1-ADL2.csv has been created successfully.\n",
      "S1-ADL3.csv has been created successfully.\n",
      "S2-ADL2.csv has been created successfully.\n",
      "S3-ADL2.csv has been created successfully.\n",
      "S3-ADL3.csv has been created successfully.\n",
      "S2-ADL3.csv has been created successfully.\n",
      "S3-ADL1.csv has been created successfully.\n",
      "S2-ADL1.csv has been created successfully.\n",
      "S3-Drill.csv has been created successfully.\n",
      "S3-ADL4.csv has been created successfully.\n",
      "S2-ADL4.csv has been created successfully.\n",
      "S2-ADL5.csv has been created successfully.\n",
      "S3-ADL5.csv has been created successfully.\n",
      "S4-ADL4.csv has been created successfully.\n",
      "S4-ADL5.csv has been created successfully.\n",
      "S2-Drill.csv has been created successfully.\n",
      "S4-ADL2.csv has been created successfully.\n",
      "S4-ADL3.csv has been created successfully.\n",
      "S4-ADL1.csv has been created successfully.\n",
      "S4-Drill.csv has been created successfully.\n"
     ]
    }
   ],
   "source": [
    "!python3 '1. data-extract.py'"
   ]
  }
 ],
 "metadata": {
  "kernelspec": {
   "display_name": "Python 3",
   "language": "python",
   "name": "python3"
  },
  "language_info": {
   "codemirror_mode": {
    "name": "ipython",
    "version": 3
   },
   "file_extension": ".py",
   "mimetype": "text/x-python",
   "name": "python",
   "nbconvert_exporter": "python",
   "pygments_lexer": "ipython3",
   "version": "3.10.11"
  }
 },
 "nbformat": 4,
 "nbformat_minor": 2
}
