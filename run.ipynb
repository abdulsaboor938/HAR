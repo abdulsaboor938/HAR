{
    "cells": [
     {
      "cell_type": "markdown",
      "metadata": {},
      "source": [
       "This is just a simple file to run all the python files contained in the directory."
      ]
     },
     {
      "cell_type": "markdown",
      "metadata": {},
      "source": [
       "## Data Extraction\n",
       "Here we will use '1. data-extraction.py' to download and then extract data into a csv file that will tehn be used for further processing."
      ]
     },
     {
      "cell_type": "code",
      "execution_count": 5,
      "metadata": {},
      "outputs": [
       {
        "name": "stdout",
        "output_type": "stream",
        "text": [
         "File does not exist, downloading the file\n",
         "--2024-02-15 16:59:19--  https://archive.ics.uci.edu/static/public/226/opportunity+activity+recognition.zip\n",
         "Resolving archive.ics.uci.edu (archive.ics.uci.edu)... 128.195.10.252\n",
         "Connecting to archive.ics.uci.edu (archive.ics.uci.edu)|128.195.10.252|:443... connected.\n",
         "HTTP request sent, awaiting response... 200 OK\n",
         "Length: unspecified\n",
         "Saving to: ‘opportunity+activity+recognition.zip’\n",
         "\n",
         "opportunity+activit     [            <=>     ] 292.43M  12.2MB/s    in 26s     \n",
         "\n",
         "2024-02-15 16:59:46 (11.2 MB/s) - ‘opportunity+activity+recognition.zip’ saved [306636009]\n",
         "\n"
        ]
       }
      ],
      "source": [
       "!python3 '1. data-extract.py'"
      ]
     }
    ],
    "metadata": {
     "kernelspec": {
      "display_name": "Python 3",
      "language": "python",
      "name": "python3"
     },
     "language_info": {
      "codemirror_mode": {
       "name": "ipython",
       "version": 3
      },
      "file_extension": ".py",
      "mimetype": "text/x-python",
      "name": "python",
      "nbconvert_exporter": "python",
      "pygments_lexer": "ipython3",
      "version": "3.10.13"
     }
    },
    "nbformat": 4,
    "nbformat_minor": 2
   }
   