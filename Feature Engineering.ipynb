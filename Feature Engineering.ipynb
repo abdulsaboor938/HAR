{
 "cells": [
  {
   "cell_type": "code",
   "execution_count": 135,
   "metadata": {},
   "outputs": [],
   "source": [
    "import pandas as pd\n",
    "import numpy as np"
   ]
  },
  {
   "cell_type": "code",
   "execution_count": 136,
   "metadata": {},
   "outputs": [],
   "source": [
    "data = pd.read_csv('dataset/S1-ADL1.csv')"
   ]
  },
  {
   "cell_type": "code",
   "execution_count": 137,
   "metadata": {},
   "outputs": [
    {
     "data": {
      "text/plain": [
       "'\\nso I have 5 sunjects, now use 5th subject for testing purposes and first 4 for training.\\ncreate a testing dataset and that will give you intuition about the data and what operations to perform on it.\\n'"
      ]
     },
     "execution_count": 137,
     "metadata": {},
     "output_type": "execute_result"
    }
   ],
   "source": [
    "'''\n",
    "so I have 4 sunjects, now use 4th subject for testing purposes and first 3 for training.\n",
    "create a testing dataset and that will give you intuition about the data and what operations to perform on it.\n",
    "'''"
   ]
  },
  {
   "cell_type": "code",
   "execution_count": 138,
   "metadata": {},
   "outputs": [],
   "source": [
    "# Create empty dataframe\n",
    "df = pd.DataFrame()\n",
    "\n",
    "# Loop through each class of locomotion\n",
    "for i in data['Locomotion'].unique():\n",
    "    # Select 200 random rows for each class\n",
    "    random_rows = data[data['Locomotion'] == i].sample(n=200, random_state=42)\n",
    "    \n",
    "    # Concatenate the selected rows to the dataframe\n",
    "    df = pd.concat([df, random_rows])\n",
    "\n",
    "# Reset the index of the dataframe\n",
    "df = df.reset_index(drop=True)"
   ]
  },
  {
   "cell_type": "code",
   "execution_count": 139,
   "metadata": {},
   "outputs": [
    {
     "name": "stdout",
     "output_type": "stream",
     "text": [
      "Accuracy: 0.9106145251396648\n"
     ]
    }
   ],
   "source": [
    "# train a simple model on this data and see how it performs\n",
    "from sklearn.model_selection import train_test_split\n",
    "from sklearn.ensemble import RandomForestClassifier\n",
    "from sklearn.metrics import accuracy_score\n",
    "\n",
    "# drop columns with all null values\n",
    "df = df.dropna(axis=1, how='all')\n",
    "\n",
    "# drop rows with any null values\n",
    "df = df.dropna(axis=0, how='any')\n",
    "\n",
    "# Split the data into features and target\n",
    "X = df.drop(['Locomotion'], axis=1)\n",
    "y = df['Locomotion']\n",
    "\n",
    "# Split the data into training and testing sets\n",
    "X_train, X_test, y_train, y_test = train_test_split(X, y, test_size=0.2, random_state=42)\n",
    "\n",
    "# Create a random forest classifier\n",
    "clf = RandomForestClassifier(random_state=42)\n",
    "\n",
    "# Train the classifier\n",
    "clf.fit(X_train, y_train)\n",
    "\n",
    "# Make predictions on the testing set\n",
    "y_pred = clf.predict(X_test)\n",
    "\n",
    "# Calculate the accuracy of the model\n",
    "accuracy = accuracy_score(y_test, y_pred)\n",
    "\n",
    "# Print the accuracy\n",
    "print('Accuracy:', accuracy)"
   ]
  },
  {
   "cell_type": "code",
   "execution_count": 140,
   "metadata": {},
   "outputs": [
    {
     "name": "stdout",
     "output_type": "stream",
     "text": [
      "Accuracy: 0.9050279329608939 for Locomotion\n",
      "Accuracy: 0.994413407821229 for HL_Activity\n",
      "Accuracy: 0.9441340782122905 for LL_Left_Arm\n",
      "Accuracy: 0.9273743016759777 for LL_Left_Arm_Object\n",
      "Accuracy: 0.8379888268156425 for LL_Right_Arm\n",
      "Accuracy: 0.8659217877094972 for LL_Right_Arm_Object\n",
      "Accuracy: 0.9497206703910615 for ML_Both_Arms\n"
     ]
    }
   ],
   "source": [
    "# train a simple model on this data and see how it performs\n",
    "from sklearn.model_selection import train_test_split\n",
    "\n",
    "# drop columns with all null values\n",
    "df = df.dropna(axis=1, how='all')\n",
    "\n",
    "# drop rows with any null values\n",
    "df = df.dropna(axis=0, how='any')\n",
    "\n",
    "# Split the data into features and target\n",
    "X = df.drop(['Locomotion','HL_Activity','LL_Left_Arm','LL_Left_Arm_Object','LL_Right_Arm','LL_Right_Arm_Object','ML_Both_Arms'], axis=1)\n",
    "y = df[['Locomotion','HL_Activity','LL_Left_Arm','LL_Left_Arm_Object','LL_Right_Arm','LL_Right_Arm_Object','ML_Both_Arms']]\n",
    "\n",
    "# Split the data into training and testing sets\n",
    "X_train, X_test, y_train, y_test = train_test_split(X, y, test_size=0.2, random_state=42)\n",
    "\n",
    "# feature scaling\n",
    "from sklearn.preprocessing import StandardScaler\n",
    "sc = StandardScaler()\n",
    "X_train = sc.fit_transform(X_train)\n",
    "X_test = sc.transform(X_test)\n",
    "\n",
    "# Create a random forest classifier\n",
    "from sklearn.ensemble import RandomForestClassifier\n",
    "\n",
    "# apply random forest classifier for each column and print a combined accuracy\n",
    "for i in y.columns:\n",
    "    clf = RandomForestClassifier(random_state=42)\n",
    "    clf.fit(X_train, y_train[i])\n",
    "    y_pred = clf.predict(X_test)\n",
    "    accuracy = accuracy_score(y_test[i], y_pred)\n",
    "    print('Accuracy:', accuracy, 'for', i)"
   ]
  },
  {
   "cell_type": "code",
   "execution_count": 141,
   "metadata": {},
   "outputs": [],
   "source": [
    "# Drop the columns\n",
    "df = df.drop(['Accelerometer CUP accX', 'Accelerometer CUP accX.1', 'Accelerometer CUP accX.2', 'Accelerometer CUP gyroX', 'Accelerometer CUP gyroY', 'Accelerometer SALAMI accX', 'Accelerometer SALAMI accX.1', 'Accelerometer SALAMI accX.2', 'Accelerometer SALAMI gyroX', 'Accelerometer SALAMI gyroY', 'Accelerometer WATER accX', 'Accelerometer WATER accX.1', 'Accelerometer WATER accX.2', 'Accelerometer WATER gyroX', 'Accelerometer WATER gyroY', 'Accelerometer CHEESE accX', 'Accelerometer CHEESE accX.1', 'Accelerometer CHEESE accX.2', 'Accelerometer CHEESE gyroX', 'Accelerometer CHEESE gyroY', 'Accelerometer BREAD accX', 'Accelerometer BREAD accX.1', 'Accelerometer BREAD accX.2', 'Accelerometer BREAD gyroX', 'Accelerometer BREAD gyroY', 'Accelerometer KNIFE1 accX', 'Accelerometer KNIFE1 accX.1', 'Accelerometer KNIFE1 accX.2', 'Accelerometer KNIFE1 gyroX', 'Accelerometer KNIFE1 gyroY', 'Accelerometer MILK accX', 'Accelerometer MILK accX.1', 'Accelerometer MILK accX.2', 'Accelerometer MILK gyroX', 'Accelerometer MILK gyroY', 'Accelerometer SPOON accX', 'Accelerometer SPOON accX.1', 'Accelerometer SPOON accX.2', 'Accelerometer SPOON gyroX', 'Accelerometer SPOON gyroY', 'Accelerometer SUGAR accX', 'Accelerometer SUGAR accX.1', 'Accelerometer SUGAR accX.2', 'Accelerometer SUGAR gyroX', 'Accelerometer SUGAR gyroY', 'Accelerometer KNIFE2 accX', 'Accelerometer KNIFE2 accX.1', 'Accelerometer KNIFE2 accX.2', 'Accelerometer KNIFE2 gyroX', 'Accelerometer KNIFE2 gyroY', 'Accelerometer PLATE accX', 'Accelerometer PLATE accX.1', 'Accelerometer PLATE accX.2', 'Accelerometer PLATE gyroX', 'Accelerometer PLATE gyroY', 'Accelerometer GLASS accX', 'Accelerometer GLASS accX.1', 'Accelerometer GLASS accX.2', 'Accelerometer GLASS gyroX', 'Accelerometer GLASS gyroY', 'REED SWITCH DISHWASHER S1', 'REED SWITCH FRIDGE S3', 'REED SWITCH FRIDGE S2', 'REED SWITCH FRIDGE S1', 'REED SWITCH MIDDLEDRAWER S1', 'REED SWITCH MIDDLEDRAWER S2', 'REED SWITCH MIDDLEDRAWER S3', 'REED SWITCH LOWERDRAWER S3', 'REED SWITCH LOWERDRAWER S2', 'REED SWITCH UPPERDRAWER', 'REED SWITCH DISHWASHER S3', 'REED SWITCH LOWERDRAWER S1', 'REED SWITCH DISHWASHER S2', 'Accelerometer DOOR1 accX', 'Accelerometer DOOR1 accY', 'Accelerometer DOOR1 accZ', 'Accelerometer LAZYCHAIR accX', 'Accelerometer LAZYCHAIR accY', 'Accelerometer LAZYCHAIR accZ', 'Accelerometer DOOR2 accX', 'Accelerometer DOOR2 accY', 'Accelerometer DOOR2 accZ', 'Accelerometer DISHWASHER accX', 'Accelerometer DISHWASHER accY', 'Accelerometer DISHWASHER accZ', 'Accelerometer LOWERDRAWER accX', 'Accelerometer LOWERDRAWER accY', 'Accelerometer LOWERDRAWER accZ', 'Accelerometer MIDDLEDRAWER accX', 'Accelerometer MIDDLEDRAWER accY', 'Accelerometer MIDDLEDRAWER accZ', 'Accelerometer FRIDGE accX', 'Accelerometer FRIDGE accY', 'Accelerometer FRIDGE accZ', 'LOCATION TAG1 X', 'LOCATION TAG1 Y', 'LOCATION TAG1 Z', 'LOCATION TAG2 X', 'LOCATION TAG2 Y', 'LOCATION TAG2 Z', 'LOCATION TAG3 X', 'LOCATION TAG3 Y', 'LOCATION TAG3 Z', 'LOCATION TAG4 X', 'LOCATION TAG4 Y', 'LOCATION TAG4 Z'], axis=1)\n",
    "\n"
   ]
  },
  {
   "cell_type": "code",
   "execution_count": 142,
   "metadata": {},
   "outputs": [
    {
     "name": "stdout",
     "output_type": "stream",
     "text": [
      "Accuracy: 0.8994413407821229\n"
     ]
    }
   ],
   "source": [
    "# train a simple model on this data and see how it performs\n",
    "from sklearn.model_selection import train_test_split\n",
    "from sklearn.ensemble import RandomForestClassifier\n",
    "from sklearn.metrics import accuracy_score\n",
    "\n",
    "# drop columns with all null values\n",
    "df = df.dropna(axis=1, how='all')\n",
    "\n",
    "# drop rows with any null values\n",
    "df = df.dropna(axis=0, how='any')\n",
    "\n",
    "\n",
    "# Split the data into features and target\n",
    "X = df.drop(['Locomotion'], axis=1)\n",
    "y = df['Locomotion']\n",
    "\n",
    "# Split the data into training and testing sets\n",
    "X_train, X_test, y_train, y_test = train_test_split(X, y, test_size=0.2, random_state=42)\n",
    "\n",
    "# Create a random forest classifier\n",
    "clf = RandomForestClassifier(random_state=42)\n",
    "\n",
    "# Train the classifier\n",
    "clf.fit(X_train, y_train)\n",
    "\n",
    "# Make predictions on the testing set\n",
    "y_pred = clf.predict(X_test)\n",
    "\n",
    "# Calculate the accuracy of the model\n",
    "accuracy = accuracy_score(y_test, y_pred)\n",
    "\n",
    "# Print the accuracy\n",
    "print('Accuracy:', accuracy)"
   ]
  },
  {
   "cell_type": "code",
   "execution_count": 143,
   "metadata": {},
   "outputs": [
    {
     "name": "stdout",
     "output_type": "stream",
     "text": [
      "Accuracy: 0.88268156424581 for Locomotion\n",
      "Accuracy: 0.9385474860335196 for HL_Activity\n",
      "Accuracy: 0.9273743016759777 for LL_Left_Arm\n",
      "Accuracy: 0.9217877094972067 for LL_Left_Arm_Object\n",
      "Accuracy: 0.8547486033519553 for LL_Right_Arm\n",
      "Accuracy: 0.8603351955307262 for LL_Right_Arm_Object\n",
      "Accuracy: 0.9497206703910615 for ML_Both_Arms\n"
     ]
    }
   ],
   "source": [
    "# train a simple model on this data and see how it performs\n",
    "from sklearn.model_selection import train_test_split\n",
    "\n",
    "# drop columns with all null values\n",
    "df = df.dropna(axis=1, how='all')\n",
    "\n",
    "# drop rows with any null values\n",
    "df = df.dropna(axis=0, how='any')\n",
    "\n",
    "# Split the data into features and target\n",
    "X = df.drop(['Locomotion','HL_Activity','LL_Left_Arm','LL_Left_Arm_Object','LL_Right_Arm','LL_Right_Arm_Object','ML_Both_Arms'], axis=1)\n",
    "y = df[['Locomotion','HL_Activity','LL_Left_Arm','LL_Left_Arm_Object','LL_Right_Arm','LL_Right_Arm_Object','ML_Both_Arms']]\n",
    "\n",
    "# Split the data into training and testing sets\n",
    "X_train, X_test, y_train, y_test = train_test_split(X, y, test_size=0.2, random_state=42)\n",
    "\n",
    "# feature scaling\n",
    "from sklearn.preprocessing import StandardScaler\n",
    "sc = StandardScaler()\n",
    "X_train = sc.fit_transform(X_train)\n",
    "X_test = sc.transform(X_test)\n",
    "\n",
    "# Create a random forest classifier\n",
    "from sklearn.ensemble import RandomForestClassifier\n",
    "\n",
    "# apply random forest classifier for each column and print a combined accuracy\n",
    "for i in y.columns:\n",
    "    clf = RandomForestClassifier(random_state=42)\n",
    "    clf.fit(X_train, y_train[i])\n",
    "    y_pred = clf.predict(X_test)\n",
    "    accuracy = accuracy_score(y_test[i], y_pred)\n",
    "    print('Accuracy:', accuracy, 'for', i)"
   ]
  }
 ],
 "metadata": {
  "kernelspec": {
   "display_name": "tensorflow",
   "language": "python",
   "name": "python3"
  },
  "language_info": {
   "codemirror_mode": {
    "name": "ipython",
    "version": 3
   },
   "file_extension": ".py",
   "mimetype": "text/x-python",
   "name": "python",
   "nbconvert_exporter": "python",
   "pygments_lexer": "ipython3",
   "version": "3.10.11"
  }
 },
 "nbformat": 4,
 "nbformat_minor": 2
}
