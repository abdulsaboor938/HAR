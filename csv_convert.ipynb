{
 "cells": [
  {
   "cell_type": "code",
   "execution_count": 1,
   "metadata": {},
   "outputs": [],
   "source": [
    "# This is the notebook for a very basic EDA and NN Implementation"
   ]
  },
  {
   "cell_type": "code",
   "execution_count": 2,
   "metadata": {},
   "outputs": [],
   "source": [
    "# Importing basic libraries\n",
    "import numpy as np\n",
    "import pandas as pd"
   ]
  },
  {
   "cell_type": "code",
   "execution_count": 3,
   "metadata": {},
   "outputs": [],
   "source": [
    "def read_data(file_path):\n",
    "    # Creating a header for the dataset\n",
    "    cols = []\n",
    "\n",
    "    # reading text file\n",
    "    with open('OpportunityUCIDataset/dataset/column_names.txt') as f:\n",
    "        text = f.readlines()\n",
    "\n",
    "    for i in range(2,245):\n",
    "        temp = text[i].split(';')[0].split(':')[1].strip()\n",
    "        # remove the number from start\n",
    "        temp = temp.split(' ')[1:]\n",
    "        temp = ' '.join(temp)\n",
    "        cols.append(temp)\n",
    "\n",
    "    for i in range(248,255):\n",
    "        cols.append(text[i].split(':')[1].strip().split(' ')[1])\n",
    "\n",
    "    # reading a '.dat' file\n",
    "    data = pd.read_csv(f'OpportunityUCIDataset/dataset/{file_path}', header=None)\n",
    "\n",
    "    # split each row by space and then store in separate columns\n",
    "    data = data[0].str.split(' ', expand=True)\n",
    "\n",
    "    # assign column names\n",
    "    data.columns = cols\n",
    "\n",
    "    return data"
   ]
  },
  {
   "cell_type": "code",
   "execution_count": 4,
   "metadata": {},
   "outputs": [],
   "source": [
    "# list all files in the OpportunityUCIDataset/dataset with .dat extension\n",
    "import os\n",
    "files = os.listdir('OpportunityUCIDataset/dataset')\n",
    "files = [f for f in files if f.endswith('.dat')]"
   ]
  },
  {
   "cell_type": "code",
   "execution_count": 5,
   "metadata": {},
   "outputs": [
    {
     "name": "stdout",
     "output_type": "stream",
     "text": [
      "S1-ADL4.csv has been read\n",
      "S1-Drill.csv has been read\n"
     ]
    },
    {
     "ename": "KeyboardInterrupt",
     "evalue": "",
     "output_type": "error",
     "traceback": [
      "\u001b[0;31m---------------------------------------------------------------------------\u001b[0m",
      "\u001b[0;31mKeyboardInterrupt\u001b[0m                         Traceback (most recent call last)",
      "Cell \u001b[0;32mIn[5], line 7\u001b[0m\n\u001b[1;32m      5\u001b[0m \u001b[38;5;28;01mfor\u001b[39;00m i \u001b[38;5;129;01min\u001b[39;00m \u001b[38;5;28mrange\u001b[39m(\u001b[38;5;28mlen\u001b[39m(files)):\n\u001b[1;32m      6\u001b[0m     data \u001b[38;5;241m=\u001b[39m read_data(files[i])\n\u001b[0;32m----> 7\u001b[0m     f \u001b[38;5;241m=\u001b[39m \u001b[43mfiles\u001b[49m\u001b[43m[\u001b[49m\u001b[43mi\u001b[49m\u001b[43m]\u001b[49m\u001b[38;5;241;43m.\u001b[39;49m\u001b[43msplit\u001b[49m\u001b[43m(\u001b[49m\u001b[38;5;124;43m'\u001b[39;49m\u001b[38;5;124;43m.\u001b[39;49m\u001b[38;5;124;43m'\u001b[39;49m\u001b[43m)\u001b[49m[\u001b[38;5;241m0\u001b[39m]\n\u001b[1;32m      8\u001b[0m     data\u001b[38;5;241m.\u001b[39mto_csv(\u001b[38;5;124mf\u001b[39m\u001b[38;5;124m'\u001b[39m\u001b[38;5;124mdataset/\u001b[39m\u001b[38;5;132;01m{\u001b[39;00mf\u001b[38;5;132;01m}\u001b[39;00m\u001b[38;5;124m.csv\u001b[39m\u001b[38;5;124m'\u001b[39m, index\u001b[38;5;241m=\u001b[39m\u001b[38;5;28;01mFalse\u001b[39;00m)\n\u001b[1;32m      9\u001b[0m     \u001b[38;5;28mprint\u001b[39m(\u001b[38;5;124mf\u001b[39m\u001b[38;5;124m'\u001b[39m\u001b[38;5;132;01m{\u001b[39;00mf\u001b[38;5;132;01m}\u001b[39;00m\u001b[38;5;124m.csv has been read\u001b[39m\u001b[38;5;124m'\u001b[39m)\n",
      "\u001b[0;31mKeyboardInterrupt\u001b[0m: "
     ]
    }
   ],
   "source": [
    "# create dataset folder if not exists\n",
    "if not os.path.exists('dataset'):\n",
    "    os.makedirs('dataset')\n",
    "\n",
    "for i in range(len(files)):\n",
    "    data = read_data(files[i])\n",
    "    f = files[i].split('.')[0]\n",
    "    data.to_csv(f'dataset/{f}.csv', index=False)\n",
    "    print(f'{f}.csv has been read')"
   ]
  }
 ],
 "metadata": {
  "kernelspec": {
   "display_name": "tensorflow",
   "language": "python",
   "name": "python3"
  },
  "language_info": {
   "codemirror_mode": {
    "name": "ipython",
    "version": 3
   },
   "file_extension": ".py",
   "mimetype": "text/x-python",
   "name": "python",
   "nbconvert_exporter": "python",
   "pygments_lexer": "ipython3",
   "version": "3.10.11"
  }
 },
 "nbformat": 4,
 "nbformat_minor": 2
}
