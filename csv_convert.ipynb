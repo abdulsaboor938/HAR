{
 "cells": [
  {
   "cell_type": "code",
   "execution_count": 1,
   "metadata": {},
   "outputs": [],
   "source": [
    "# This is the notebook for a very basic EDA and NN Implementation"
   ]
  },
  {
   "cell_type": "code",
   "execution_count": 2,
   "metadata": {},
   "outputs": [],
   "source": [
    "# Importing basic libraries\n",
    "import numpy as np\n",
    "import pandas as pd"
   ]
  },
  {
   "cell_type": "code",
   "execution_count": 3,
   "metadata": {},
   "outputs": [],
   "source": [
    "def read_data(file_path):\n",
    "    # Creating a header for the dataset\n",
    "    cols = []\n",
    "\n",
    "    # reading text file\n",
    "    with open('OpportunityUCIDataset/dataset/column_names.txt') as f:\n",
    "        text = f.readlines()\n",
    "\n",
    "    for i in range(2,245):\n",
    "        temp = text[i].split(';')[0].split(':')[1].strip()\n",
    "        # remove the number from start\n",
    "        temp = temp.split(' ')[1:]\n",
    "        temp = ' '.join(temp)\n",
    "        cols.append(temp)\n",
    "\n",
    "    for i in range(248,255):\n",
    "        cols.append(text[i].split(':')[1].strip().split(' ')[1])\n",
    "\n",
    "    # reading a '.dat' file\n",
    "    data = pd.read_csv(f'OpportunityUCIDataset/dataset/{file_path}', header=None)\n",
    "\n",
    "    # split each row by space and then store in separate columns\n",
    "    data = data[0].str.split(' ', expand=True)\n",
    "\n",
    "    # assign column names\n",
    "    data.columns = cols\n",
    "\n",
    "    return data"
   ]
  },
  {
   "cell_type": "code",
   "execution_count": 1,
   "metadata": {},
   "outputs": [],
   "source": [
    "# list all files in the OpportunityUCIDataset/dataset with .dat extension\n",
    "import os\n",
    "files = os.listdir('OpportunityUCIDataset/dataset')\n",
    "files = [f for f in files if f.endswith('.dat')]"
   ]
  },
  {
   "cell_type": "code",
   "execution_count": 5,
   "metadata": {},
   "outputs": [
    {
     "name": "stdout",
     "output_type": "stream",
     "text": [
      "S1-ADL4.csv has been read\n",
      "S1-Drill.csv has been read\n"
     ]
    },
    {
     "ename": "KeyboardInterrupt",
     "evalue": "",
     "output_type": "error",
     "traceback": [
      "\u001b[0;31m---------------------------------------------------------------------------\u001b[0m",
      "\u001b[0;31mKeyboardInterrupt\u001b[0m                         Traceback (most recent call last)",
      "Cell \u001b[0;32mIn[5], line 7\u001b[0m\n\u001b[1;32m      5\u001b[0m \u001b[38;5;28;01mfor\u001b[39;00m i \u001b[38;5;129;01min\u001b[39;00m \u001b[38;5;28mrange\u001b[39m(\u001b[38;5;28mlen\u001b[39m(files)):\n\u001b[1;32m      6\u001b[0m     data \u001b[38;5;241m=\u001b[39m read_data(files[i])\n\u001b[0;32m----> 7\u001b[0m     f \u001b[38;5;241m=\u001b[39m \u001b[43mfiles\u001b[49m\u001b[43m[\u001b[49m\u001b[43mi\u001b[49m\u001b[43m]\u001b[49m\u001b[38;5;241;43m.\u001b[39;49m\u001b[43msplit\u001b[49m\u001b[43m(\u001b[49m\u001b[38;5;124;43m'\u001b[39;49m\u001b[38;5;124;43m.\u001b[39;49m\u001b[38;5;124;43m'\u001b[39;49m\u001b[43m)\u001b[49m[\u001b[38;5;241m0\u001b[39m]\n\u001b[1;32m      8\u001b[0m     data\u001b[38;5;241m.\u001b[39mto_csv(\u001b[38;5;124mf\u001b[39m\u001b[38;5;124m'\u001b[39m\u001b[38;5;124mdataset/\u001b[39m\u001b[38;5;132;01m{\u001b[39;00mf\u001b[38;5;132;01m}\u001b[39;00m\u001b[38;5;124m.csv\u001b[39m\u001b[38;5;124m'\u001b[39m, index\u001b[38;5;241m=\u001b[39m\u001b[38;5;28;01mFalse\u001b[39;00m)\n\u001b[1;32m      9\u001b[0m     \u001b[38;5;28mprint\u001b[39m(\u001b[38;5;124mf\u001b[39m\u001b[38;5;124m'\u001b[39m\u001b[38;5;132;01m{\u001b[39;00mf\u001b[38;5;132;01m}\u001b[39;00m\u001b[38;5;124m.csv has been read\u001b[39m\u001b[38;5;124m'\u001b[39m)\n",
      "\u001b[0;31mKeyboardInterrupt\u001b[0m: "
     ]
    }
   ],
   "source": [
    "# create dataset folder if not exists\n",
    "if not os.path.exists('dataset'):\n",
    "    os.makedirs('dataset')\n",
    "\n",
    "for i in range(len(files)):\n",
    "    data = read_data(files[i])\n",
    "    f = files[i].split('.')[0]\n",
    "    data.to_csv(f'dataset/{f}.csv', index=False)\n",
    "    print(f'{f}.csv has been read')"
   ]
  },
  {
   "cell_type": "code",
   "execution_count": 4,
   "metadata": {},
   "outputs": [
    {
     "name": "stdout",
     "output_type": "stream",
     "text": [
      "Collecting pipreqs\n",
      "  Downloading pipreqs-0.4.13-py2.py3-none-any.whl (33 kB)\n",
      "Collecting docopt (from pipreqs)\n",
      "  Downloading docopt-0.6.2.tar.gz (25 kB)\n",
      "  Preparing metadata (setup.py) ... \u001b[?25ldone\n",
      "\u001b[?25hCollecting yarg (from pipreqs)\n",
      "  Downloading yarg-0.1.9-py2.py3-none-any.whl (19 kB)\n",
      "Requirement already satisfied: requests in /Users/carbon/anaconda3/envs/tensorflow/lib/python3.10/site-packages (from yarg->pipreqs) (2.31.0)\n",
      "Requirement already satisfied: charset-normalizer<4,>=2 in /Users/carbon/anaconda3/envs/tensorflow/lib/python3.10/site-packages (from requests->yarg->pipreqs) (3.1.0)\n",
      "Requirement already satisfied: idna<4,>=2.5 in /Users/carbon/anaconda3/envs/tensorflow/lib/python3.10/site-packages (from requests->yarg->pipreqs) (3.4)\n",
      "Requirement already satisfied: urllib3<3,>=1.21.1 in /Users/carbon/anaconda3/envs/tensorflow/lib/python3.10/site-packages (from requests->yarg->pipreqs) (1.26.15)\n",
      "Requirement already satisfied: certifi>=2017.4.17 in /Users/carbon/anaconda3/envs/tensorflow/lib/python3.10/site-packages (from requests->yarg->pipreqs) (2023.5.7)\n",
      "Building wheels for collected packages: docopt\n",
      "  Building wheel for docopt (setup.py) ... \u001b[?25ldone\n",
      "\u001b[?25h  Created wheel for docopt: filename=docopt-0.6.2-py2.py3-none-any.whl size=13707 sha256=f4fb7b4f5b89d71052ca70b2bc2e97917fbca189cb0e3898ed0c333c6f5d4dd3\n",
      "  Stored in directory: /Users/carbon/Library/Caches/pip/wheels/fc/ab/d4/5da2067ac95b36618c629a5f93f809425700506f72c9732fac\n",
      "Successfully built docopt\n",
      "Installing collected packages: docopt, yarg, pipreqs\n",
      "Successfully installed docopt-0.6.2 pipreqs-0.4.13 yarg-0.1.9\n"
     ]
    }
   ],
   "source": [
    "!pip install pipreqs\n",
    "# pipreqs /path/to/project"
   ]
  },
  {
   "cell_type": "code",
   "execution_count": 8,
   "metadata": {},
   "outputs": [
    {
     "name": "stdout",
     "output_type": "stream",
     "text": [
      "ERROR: Failed on file: ./shell.py\n",
      "Traceback (most recent call last):\n",
      "  File \"/Users/carbon/anaconda3/envs/tensorflow/bin/pipreqs\", line 8, in <module>\n",
      "    sys.exit(main())\n",
      "  File \"/Users/carbon/anaconda3/envs/tensorflow/lib/python3.10/site-packages/pipreqs/pipreqs.py\", line 528, in main\n",
      "    init(args)\n",
      "  File \"/Users/carbon/anaconda3/envs/tensorflow/lib/python3.10/site-packages/pipreqs/pipreqs.py\", line 455, in init\n",
      "    candidates = get_all_imports(input_path,\n",
      "  File \"/Users/carbon/anaconda3/envs/tensorflow/lib/python3.10/site-packages/pipreqs/pipreqs.py\", line 131, in get_all_imports\n",
      "    raise exc\n",
      "  File \"/Users/carbon/anaconda3/envs/tensorflow/lib/python3.10/site-packages/pipreqs/pipreqs.py\", line 117, in get_all_imports\n",
      "    tree = ast.parse(contents)\n",
      "  File \"/Users/carbon/anaconda3/envs/tensorflow/lib/python3.10/ast.py\", line 50, in parse\n",
      "    return compile(source, filename, mode, flags,\n",
      "  File \"<unknown>\", line 13\n",
      "    ```\n",
      "    ^\n",
      "SyntaxError: invalid syntax\n"
     ]
    }
   ],
   "source": [
    "!pipreqs . --force"
   ]
  }
 ],
 "metadata": {
  "kernelspec": {
   "display_name": "tensorflow",
   "language": "python",
   "name": "python3"
  },
  "language_info": {
   "codemirror_mode": {
    "name": "ipython",
    "version": 3
   },
   "file_extension": ".py",
   "mimetype": "text/x-python",
   "name": "python",
   "nbconvert_exporter": "python",
   "pygments_lexer": "ipython3",
   "version": "3.10.11"
  }
 },
 "nbformat": 4,
 "nbformat_minor": 2
}
