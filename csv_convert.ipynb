{
 "cells": [
  {
   "cell_type": "code",
   "execution_count": 4,
   "metadata": {},
   "outputs": [],
   "source": [
    "# This is the notebook for a very basic EDA and NN Implementation"
   ]
  },
  {
   "cell_type": "code",
   "execution_count": 5,
   "metadata": {},
   "outputs": [],
   "source": [
    "# Importing basic libraries\n",
    "import numpy as np\n",
    "import pandas as pd"
   ]
  },
  {
   "cell_type": "code",
   "execution_count": 6,
   "metadata": {},
   "outputs": [],
   "source": [
    "def read_data(file_path):\n",
    "    # Creating a header for the dataset\n",
    "    cols = []\n",
    "\n",
    "    # reading text file\n",
    "    with open('OpportunityUCIDataset/dataset/column_names.txt') as f:\n",
    "        text = f.readlines()\n",
    "\n",
    "    for i in range(2,245):\n",
    "        temp = text[i].split(';')[0].split(':')[1].strip()\n",
    "        # remove the number from start\n",
    "        temp = temp.split(' ')[1:]\n",
    "        temp = ' '.join(temp)\n",
    "        cols.append(temp)\n",
    "\n",
    "    for i in range(248,255):\n",
    "        cols.append(text[i].split(':')[1].strip().split(' ')[1])\n",
    "\n",
    "    # reading a '.dat' file\n",
    "    data = pd.read_csv('OpportunityUCIDataset/dataset/S1-ADL1.dat', header=None)\n",
    "\n",
    "    # split each row by space and then store in separate columns\n",
    "    data = data[0].str.split(' ', expand=True)\n",
    "\n",
    "    # assign column names\n",
    "    data.columns = cols\n",
    "\n",
    "    return data"
   ]
  },
  {
   "cell_type": "code",
   "execution_count": 7,
   "metadata": {},
   "outputs": [],
   "source": [
    "# list all files in the OpportunityUCIDataset/dataset with .dat extension\n",
    "import os\n",
    "files = os.listdir('OpportunityUCIDataset/dataset')\n",
    "files = [f for f in files if f.endswith('.dat')]"
   ]
  },
  {
   "cell_type": "code",
   "execution_count": 9,
   "metadata": {},
   "outputs": [
    {
     "name": "stdout",
     "output_type": "stream",
     "text": [
      "S1-ADL4.dat.csv has been read\n",
      "S1-Drill.dat.csv has been read\n",
      "S1-ADL5.dat.csv has been read\n",
      "S1-ADL1.dat.csv has been read\n",
      "S1-ADL2.dat.csv has been read\n",
      "S1-ADL3.dat.csv has been read\n",
      "S2-ADL2.dat.csv has been read\n",
      "S3-ADL2.dat.csv has been read\n",
      "S3-ADL3.dat.csv has been read\n",
      "S2-ADL3.dat.csv has been read\n",
      "S3-ADL1.dat.csv has been read\n",
      "S2-ADL1.dat.csv has been read\n",
      "S3-Drill.dat.csv has been read\n",
      "S3-ADL4.dat.csv has been read\n",
      "S2-ADL4.dat.csv has been read\n",
      "S2-ADL5.dat.csv has been read\n",
      "S3-ADL5.dat.csv has been read\n",
      "S4-ADL4.dat.csv has been read\n",
      "S4-ADL5.dat.csv has been read\n",
      "S2-Drill.dat.csv has been read\n",
      "S4-ADL2.dat.csv has been read\n",
      "S4-ADL3.dat.csv has been read\n",
      "S4-ADL1.dat.csv has been read\n",
      "S4-Drill.dat.csv has been read\n"
     ]
    }
   ],
   "source": [
    "# create dataset folder if not exists\n",
    "if not os.path.exists('dataset'):\n",
    "    os.makedirs('dataset')\n",
    "\n",
    "for f in files:\n",
    "    data = read_data(f)\n",
    "    files[0].split('.')[0]\n",
    "    data.to_csv(f'dataset/{f}.csv', index=False)\n",
    "    print(f'{f}.csv has been read')"
   ]
  }
 ],
 "metadata": {
  "kernelspec": {
   "display_name": "tensorflow",
   "language": "python",
   "name": "python3"
  },
  "language_info": {
   "codemirror_mode": {
    "name": "ipython",
    "version": 3
   },
   "file_extension": ".py",
   "mimetype": "text/x-python",
   "name": "python",
   "nbconvert_exporter": "python",
   "pygments_lexer": "ipython3",
   "version": "3.10.11"
  }
 },
 "nbformat": 4,
 "nbformat_minor": 2
}
